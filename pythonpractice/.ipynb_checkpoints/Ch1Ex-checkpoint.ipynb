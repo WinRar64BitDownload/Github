{
 "cells": [
  {
   "cell_type": "markdown",
   "id": "15cbec03",
   "metadata": {},
   "source": [
    "# Chapter 1 Exercises\n",
    "This is problems 1, 3, and 5"
   ]
  },
  {
   "cell_type": "markdown",
   "id": "414eb134",
   "metadata": {},
   "source": [
    "## Ex 1"
   ]
  },
  {
   "cell_type": "code",
   "execution_count": 1,
   "id": "8d50857c",
   "metadata": {},
   "outputs": [
    {
     "name": "stdout",
     "output_type": "stream",
     "text": [
      "This is a test of the Python interpretor.\n"
     ]
    }
   ],
   "source": [
    "print('This is a test of the Python interpretor.')"
   ]
  },
  {
   "cell_type": "markdown",
   "id": "a9acaef7",
   "metadata": {},
   "source": [
    "Above was a correct version of Example 1\n",
    "\n",
    "Below is a version of Example 1 with an error"
   ]
  },
  {
   "cell_type": "code",
   "execution_count": 2,
   "id": "9a02d7ee",
   "metadata": {},
   "outputs": [
    {
     "ename": "SyntaxError",
     "evalue": "unterminated string literal (detected at line 1) (544366453.py, line 1)",
     "output_type": "error",
     "traceback": [
      "\u001b[1;36m  Cell \u001b[1;32mIn[2], line 1\u001b[1;36m\u001b[0m\n\u001b[1;33m    print(\"This is a fucked up test of the Python interpretor.)\u001b[0m\n\u001b[1;37m          ^\u001b[0m\n\u001b[1;31mSyntaxError\u001b[0m\u001b[1;31m:\u001b[0m unterminated string literal (detected at line 1)\n"
     ]
    }
   ],
   "source": [
    "print(\"This is a fucked up test of the Python interpretor.)"
   ]
  },
  {
   "cell_type": "markdown",
   "id": "d8d1337e",
   "metadata": {},
   "source": [
    "Below is an advanced version of Example 1 using a function to create colored text"
   ]
  },
  {
   "cell_type": "code",
   "execution_count": 3,
   "id": "765bc651",
   "metadata": {},
   "outputs": [
    {
     "name": "stdout",
     "output_type": "stream",
     "text": [
      "This is a test of the Python interpretor.\n",
      "\u001b[96mThis is a cooler test of the Python interpretor.\n",
      "\u001b[0mAnd now we're back to a normal test of the Python interpretor\n"
     ]
    }
   ],
   "source": [
    "class color:\n",
    "   CYAN = '\\033[96m'\n",
    "   END = '\\033[0m'\n",
    "\n",
    "print(\"This is a test of the Python interpretor.\")\n",
    "print(color.CYAN + \"This is a cooler test of the Python interpretor.\")\n",
    "print(color.END + \"And now we're back to a normal test of the Python interpretor\")"
   ]
  },
  {
   "cell_type": "markdown",
   "id": "aa3bc9b9",
   "metadata": {},
   "source": [
    "Are you impressed yet?"
   ]
  },
  {
   "cell_type": "code",
   "execution_count": 5,
   "id": "89cc5633",
   "metadata": {},
   "outputs": [
    {
     "name": "stdout",
     "output_type": "stream",
     "text": [
      "Because: \u001b[96mI certainly \u001b[0m\u001b[1mhope \u001b[0mso.\n"
     ]
    }
   ],
   "source": [
    "class color:\n",
    "   CYAN = '\\033[96m'\n",
    "   BOLD = '\\033[1m'\n",
    "   END = '\\033[0m'\n",
    "\n",
    "print(\"Because:\", color.CYAN + 'I certainly', color.END + color.BOLD + 'hope', color.END + 'so.')"
   ]
  },
  {
   "cell_type": "markdown",
   "id": "815eae8a",
   "metadata": {},
   "source": [
    "## Ex 2 (But it's actually 3)"
   ]
  },
  {
   "cell_type": "markdown",
   "id": "dd902891",
   "metadata": {},
   "source": [
    "### Converting a Decimal into Binary is done through dividing the number and each subsequent quotient by two until the quotient reaches zero. The Binary translation is each equation's remainder written in reverse order.\n",
    "\n",
    "11 / 2 | Quotient = 5 | Remainder = 1\n",
    "\n",
    "5 / 2 | Quotient = 2 | Remainder = 1\n",
    "\n",
    "2 / 2 | Quotient = 1 | Remainder = 0\n",
    "\n",
    "1 / 2 | Quotient = 0 | Remainder = 1\n",
    "\n",
    "#### Decimal 11 converted into Binary is 1011\n",
    "\n",
    "100 / 2 | Quotient = 50 | Remainder = 0\n",
    "\n",
    "50 / 2 | Quotient = 25 | Remainder = 0\n",
    "\n",
    "25 / 2 | Quotient = 12 | Remainder = 1\n",
    "\n",
    "12 / 2 | Quotient = 6 | Remainder = 0\n",
    "\n",
    "6 / 2 | Quotient = 3 | Remainder = 0\n",
    "\n",
    "3 / 2 | Quotient = 1 | Remainder = 1\n",
    "\n",
    "1 / 2 | Quotient = 0 | Remainder = 1\n",
    "\n",
    "#### Decimal 100 converted into Binary is 1100100"
   ]
  },
  {
   "cell_type": "markdown",
   "id": "2d1503bd",
   "metadata": {},
   "source": [
    "### However, Python also comes with a function that easily and instantly converts decimal into binary!"
   ]
  },
  {
   "cell_type": "code",
   "execution_count": 12,
   "id": "dea5a913",
   "metadata": {},
   "outputs": [
    {
     "data": {
      "text/plain": [
       "'0b1000001'"
      ]
     },
     "execution_count": 12,
     "metadata": {},
     "output_type": "execute_result"
    }
   ],
   "source": [
    ">>> bin(65)"
   ]
  },
  {
   "cell_type": "markdown",
   "id": "26ca8388",
   "metadata": {},
   "source": [
    "#### Decimal 65 converted into Binary is 1000001"
   ]
  },
  {
   "cell_type": "code",
   "execution_count": 14,
   "id": "c3d786a5",
   "metadata": {},
   "outputs": [
    {
     "data": {
      "text/plain": [
       "'0b11111111'"
      ]
     },
     "execution_count": 14,
     "metadata": {},
     "output_type": "execute_result"
    }
   ],
   "source": [
    ">>> bin(255)"
   ]
  },
  {
   "cell_type": "markdown",
   "id": "13a028ea",
   "metadata": {},
   "source": [
    "#### Decimal 255 converted into Binary is 11111111"
   ]
  },
  {
   "cell_type": "markdown",
   "id": "7794b7d3",
   "metadata": {},
   "source": [
    "## Ex 3 (But it's actually 5)"
   ]
  },
  {
   "cell_type": "markdown",
   "id": "79497568",
   "metadata": {},
   "source": [
    "### I chose to do Exercise 5:\n",
    "##### Look at the ASCII chart in Appendix C and determine the codes for each letter of your first name.\n",
    "\n",
    "### While my preferred name is Hunter, my first name is Jason. Because this exercise is relatively simple I will be translating both names into ASCII.\n",
    "\n",
    "#### The ASCII chart found in the textbook is very easy to read. My first name in ASCII is as follows:\n",
    "### J | 74\n",
    "### A | 65\n",
    "### S | 83\n",
    "### O | 79\n",
    "### N | 78\n",
    "## JASON | 74 65 83 79 78\n",
    "\n",
    "#### My preferred name in ASCII is as follows:\n",
    "### H | 72\n",
    "### U | 85\n",
    "### N | 78\n",
    "### T | 84\n",
    "### E | 69\n",
    "Nice\n",
    "### R | 82\n",
    "## HUNTER | 72 85 78 84 69 82"
   ]
  },
  {
   "cell_type": "markdown",
   "id": "0c6944c1",
   "metadata": {},
   "source": [
    "I hope this assignment was more comprehensible than my introductory video."
   ]
  }
 ],
 "metadata": {
  "kernelspec": {
   "display_name": "Python 3 (ipykernel)",
   "language": "python",
   "name": "python3"
  },
  "language_info": {
   "codemirror_mode": {
    "name": "ipython",
    "version": 3
   },
   "file_extension": ".py",
   "mimetype": "text/x-python",
   "name": "python",
   "nbconvert_exporter": "python",
   "pygments_lexer": "ipython3",
   "version": "3.11.7"
  }
 },
 "nbformat": 4,
 "nbformat_minor": 5
}
